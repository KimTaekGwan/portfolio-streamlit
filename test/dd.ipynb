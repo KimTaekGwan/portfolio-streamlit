{
 "cells": [
  {
   "cell_type": "code",
   "execution_count": 2,
   "metadata": {},
   "outputs": [
    {
     "name": "stdout",
     "output_type": "stream",
     "text": [
      "Collecting openpyxl\n",
      "  Using cached openpyxl-3.1.5-py2.py3-none-any.whl.metadata (2.5 kB)\n",
      "Collecting et-xmlfile (from openpyxl)\n",
      "  Downloading et_xmlfile-2.0.0-py3-none-any.whl.metadata (2.7 kB)\n",
      "Using cached openpyxl-3.1.5-py2.py3-none-any.whl (250 kB)\n",
      "Downloading et_xmlfile-2.0.0-py3-none-any.whl (18 kB)\n",
      "Installing collected packages: et-xmlfile, openpyxl\n",
      "Successfully installed et-xmlfile-2.0.0 openpyxl-3.1.5\n",
      "\n",
      "\u001b[1m[\u001b[0m\u001b[34;49mnotice\u001b[0m\u001b[1;39;49m]\u001b[0m\u001b[39;49m A new release of pip is available: \u001b[0m\u001b[31;49m24.2\u001b[0m\u001b[39;49m -> \u001b[0m\u001b[32;49m24.3.1\u001b[0m\n",
      "\u001b[1m[\u001b[0m\u001b[34;49mnotice\u001b[0m\u001b[1;39;49m]\u001b[0m\u001b[39;49m To update, run: \u001b[0m\u001b[32;49mpip install --upgrade pip\u001b[0m\n"
     ]
    }
   ],
   "source": [
    "!pip install openpyxl"
   ]
  },
  {
   "cell_type": "code",
   "execution_count": 1,
   "metadata": {},
   "outputs": [
    {
     "data": {
      "text/html": [
       "<div>\n",
       "<style scoped>\n",
       "    .dataframe tbody tr th:only-of-type {\n",
       "        vertical-align: middle;\n",
       "    }\n",
       "\n",
       "    .dataframe tbody tr th {\n",
       "        vertical-align: top;\n",
       "    }\n",
       "\n",
       "    .dataframe thead th {\n",
       "        text-align: right;\n",
       "    }\n",
       "</style>\n",
       "<table border=\"1\" class=\"dataframe\">\n",
       "  <thead>\n",
       "    <tr style=\"text-align: right;\">\n",
       "      <th></th>\n",
       "      <th>File</th>\n",
       "      <th>Message</th>\n",
       "    </tr>\n",
       "  </thead>\n",
       "  <tbody>\n",
       "    <tr>\n",
       "      <th>0</th>\n",
       "      <td>/var/www/weven_supply/app_supply/web/content/m...</td>\n",
       "      <td>현재 비밀번호를 입력해주세요</td>\n",
       "    </tr>\n",
       "    <tr>\n",
       "      <th>1</th>\n",
       "      <td>/var/www/weven_supply/app_supply/web/content/m...</td>\n",
       "      <td>비밀번호를 다시한번 입력해주세요</td>\n",
       "    </tr>\n",
       "    <tr>\n",
       "      <th>2</th>\n",
       "      <td>/var/www/weven_supply/app_supply/web/content/m...</td>\n",
       "      <td>비밀번호를 다시한번 확인해주세요</td>\n",
       "    </tr>\n",
       "    <tr>\n",
       "      <th>3</th>\n",
       "      <td>/var/www/weven_supply/app_supply/web/content/m...</td>\n",
       "      <td>이메일 형식이 올바르지 않습니다.</td>\n",
       "    </tr>\n",
       "    <tr>\n",
       "      <th>4</th>\n",
       "      <td>/var/www/weven_supply/app_supply/web/content/m...</td>\n",
       "      <td>Email 형식이 아닙니다.</td>\n",
       "    </tr>\n",
       "  </tbody>\n",
       "</table>\n",
       "</div>"
      ],
      "text/plain": [
       "                                                File             Message\n",
       "0  /var/www/weven_supply/app_supply/web/content/m...     현재 비밀번호를 입력해주세요\n",
       "1  /var/www/weven_supply/app_supply/web/content/m...   비밀번호를 다시한번 입력해주세요\n",
       "2  /var/www/weven_supply/app_supply/web/content/m...   비밀번호를 다시한번 확인해주세요\n",
       "3  /var/www/weven_supply/app_supply/web/content/m...  이메일 형식이 올바르지 않습니다.\n",
       "4  /var/www/weven_supply/app_supply/web/content/m...     Email 형식이 아닙니다."
      ]
     },
     "execution_count": 1,
     "metadata": {},
     "output_type": "execute_result"
    }
   ],
   "source": [
    "import pandas as pd\n",
    "import os\n",
    "\n",
    "origin_df = pd.read_csv('/Users/ktg/Desktop/project/portfolio-streamlit/test/popup_name/data/message.csv')\n",
    "origin_df.head()"
   ]
  },
  {
   "cell_type": "code",
   "execution_count": 2,
   "metadata": {},
   "outputs": [
    {
     "name": "stdout",
     "output_type": "stream",
     "text": [
      "<class 'pandas.core.frame.DataFrame'>\n",
      "RangeIndex: 7572 entries, 0 to 7571\n",
      "Data columns (total 2 columns):\n",
      " #   Column   Non-Null Count  Dtype \n",
      "---  ------   --------------  ----- \n",
      " 0   File     7572 non-null   object\n",
      " 1   Message  7570 non-null   object\n",
      "dtypes: object(2)\n",
      "memory usage: 118.4+ KB\n"
     ]
    }
   ],
   "source": [
    "origin_df.info()"
   ]
  },
  {
   "cell_type": "code",
   "execution_count": 3,
   "metadata": {},
   "outputs": [
    {
     "data": {
      "text/html": [
       "<div>\n",
       "<style scoped>\n",
       "    .dataframe tbody tr th:only-of-type {\n",
       "        vertical-align: middle;\n",
       "    }\n",
       "\n",
       "    .dataframe tbody tr th {\n",
       "        vertical-align: top;\n",
       "    }\n",
       "\n",
       "    .dataframe thead th {\n",
       "        text-align: right;\n",
       "    }\n",
       "</style>\n",
       "<table border=\"1\" class=\"dataframe\">\n",
       "  <thead>\n",
       "    <tr style=\"text-align: right;\">\n",
       "      <th></th>\n",
       "      <th>File</th>\n",
       "      <th>Message</th>\n",
       "    </tr>\n",
       "  </thead>\n",
       "  <tbody>\n",
       "    <tr>\n",
       "      <th>count</th>\n",
       "      <td>7572</td>\n",
       "      <td>7570</td>\n",
       "    </tr>\n",
       "    <tr>\n",
       "      <th>unique</th>\n",
       "      <td>863</td>\n",
       "      <td>1717</td>\n",
       "    </tr>\n",
       "    <tr>\n",
       "      <th>top</th>\n",
       "      <td>/var/www/weven_supply/weven_service/asset/js/b...</td>\n",
       "      <td>적용할 대상이 선택되지 않았습니다.</td>\n",
       "    </tr>\n",
       "    <tr>\n",
       "      <th>freq</th>\n",
       "      <td>164</td>\n",
       "      <td>576</td>\n",
       "    </tr>\n",
       "  </tbody>\n",
       "</table>\n",
       "</div>"
      ],
      "text/plain": [
       "                                                     File              Message\n",
       "count                                                7572                 7570\n",
       "unique                                                863                 1717\n",
       "top     /var/www/weven_supply/weven_service/asset/js/b...  적용할 대상이 선택되지 않았습니다.\n",
       "freq                                                  164                  576"
      ]
     },
     "execution_count": 3,
     "metadata": {},
     "output_type": "execute_result"
    }
   ],
   "source": [
    "origin_df.describe()"
   ]
  },
  {
   "cell_type": "code",
   "execution_count": 4,
   "metadata": {},
   "outputs": [
    {
     "name": "stdout",
     "output_type": "stream",
     "text": [
      "['현재 비밀번호를 입력해주세요' '비밀번호를 다시한번 입력해주세요' '비밀번호를 다시한번 확인해주세요'\n",
      " '이메일 형식이 올바르지 않습니다.' 'Email 형식이 아닙니다.' '복구이메일주소 인증이 필요합니다.'\n",
      " '로그인이 필요한 페이지 입니다.' '아직 지원하지 않는 기능입니다.' '아이디(이메일)를 입력해 주세요.'\n",
      " '사용할 수 없는 아이디 입니다.(중복된 아이디입니다.)']\n"
     ]
    }
   ],
   "source": [
    "# 유니크한 메시지\n",
    "unique_messages = origin_df['Message'].unique()\n",
    "print(unique_messages[0:10])\n"
   ]
  },
  {
   "cell_type": "code",
   "execution_count": 5,
   "metadata": {},
   "outputs": [
    {
     "data": {
      "text/plain": [
       "1718"
      ]
     },
     "execution_count": 5,
     "metadata": {},
     "output_type": "execute_result"
    }
   ],
   "source": [
    "len(unique_messages)"
   ]
  },
  {
   "cell_type": "code",
   "execution_count": 14,
   "metadata": {},
   "outputs": [
    {
     "data": {
      "text/html": [
       "<div>\n",
       "<style scoped>\n",
       "    .dataframe tbody tr th:only-of-type {\n",
       "        vertical-align: middle;\n",
       "    }\n",
       "\n",
       "    .dataframe tbody tr th {\n",
       "        vertical-align: top;\n",
       "    }\n",
       "\n",
       "    .dataframe thead th {\n",
       "        text-align: right;\n",
       "    }\n",
       "</style>\n",
       "<table border=\"1\" class=\"dataframe\">\n",
       "  <thead>\n",
       "    <tr style=\"text-align: right;\">\n",
       "      <th></th>\n",
       "      <th>File</th>\n",
       "      <th>Message</th>\n",
       "      <th>Message_preprocessed</th>\n",
       "    </tr>\n",
       "  </thead>\n",
       "  <tbody>\n",
       "    <tr>\n",
       "      <th>0</th>\n",
       "      <td>/var/www/weven_supply/app_supply/web/content/m...</td>\n",
       "      <td>현재 비밀번호를 입력해주세요</td>\n",
       "      <td>현재비밀번호를입력해주세요</td>\n",
       "    </tr>\n",
       "    <tr>\n",
       "      <th>1</th>\n",
       "      <td>/var/www/weven_supply/app_supply/web/content/m...</td>\n",
       "      <td>비밀번호를 다시한번 입력해주세요</td>\n",
       "      <td>비밀번호를다시한번입력해주세요</td>\n",
       "    </tr>\n",
       "    <tr>\n",
       "      <th>2</th>\n",
       "      <td>/var/www/weven_supply/app_supply/web/content/m...</td>\n",
       "      <td>비밀번호를 다시한번 확인해주세요</td>\n",
       "      <td>비밀번호를다시한번확인해주세요</td>\n",
       "    </tr>\n",
       "    <tr>\n",
       "      <th>3</th>\n",
       "      <td>/var/www/weven_supply/app_supply/web/content/m...</td>\n",
       "      <td>이메일 형식이 올바르지 않습니다.</td>\n",
       "      <td>이메일형식이올바르지않습니다.</td>\n",
       "    </tr>\n",
       "    <tr>\n",
       "      <th>4</th>\n",
       "      <td>/var/www/weven_supply/app_supply/web/content/m...</td>\n",
       "      <td>Email 형식이 아닙니다.</td>\n",
       "      <td>Email형식이아닙니다.</td>\n",
       "    </tr>\n",
       "  </tbody>\n",
       "</table>\n",
       "</div>"
      ],
      "text/plain": [
       "                                                File             Message  \\\n",
       "0  /var/www/weven_supply/app_supply/web/content/m...     현재 비밀번호를 입력해주세요   \n",
       "1  /var/www/weven_supply/app_supply/web/content/m...   비밀번호를 다시한번 입력해주세요   \n",
       "2  /var/www/weven_supply/app_supply/web/content/m...   비밀번호를 다시한번 확인해주세요   \n",
       "3  /var/www/weven_supply/app_supply/web/content/m...  이메일 형식이 올바르지 않습니다.   \n",
       "4  /var/www/weven_supply/app_supply/web/content/m...     Email 형식이 아닙니다.   \n",
       "\n",
       "  Message_preprocessed  \n",
       "0        현재비밀번호를입력해주세요  \n",
       "1      비밀번호를다시한번입력해주세요  \n",
       "2      비밀번호를다시한번확인해주세요  \n",
       "3      이메일형식이올바르지않습니다.  \n",
       "4        Email형식이아닙니다.  "
      ]
     },
     "execution_count": 14,
     "metadata": {},
     "output_type": "execute_result"
    }
   ],
   "source": [
    "# 메시지 전처리한 칼럼 추가\n",
    "origin_df['Message_preprocessed'] = origin_df['Message'].apply(lambda x: x.replace(' ', '') if isinstance(x, str) else x)\n",
    "origin_df.head()"
   ]
  },
  {
   "cell_type": "code",
   "execution_count": 26,
   "metadata": {},
   "outputs": [
    {
     "name": "stdout",
     "output_type": "stream",
     "text": [
      "Found existing installation: sentence-transformers 3.2.1\n",
      "Uninstalling sentence-transformers-3.2.1:\n",
      "  Would remove:\n",
      "    /Users/ktg/Desktop/project/portfolio-streamlit/.venv/lib/python3.11/site-packages/sentence_transformers-3.2.1.dist-info/*\n",
      "    /Users/ktg/Desktop/project/portfolio-streamlit/.venv/lib/python3.11/site-packages/sentence_transformers/*\n",
      "Proceed (Y/n)? ^C\n",
      "\u001b[31mERROR: Operation cancelled by user\u001b[0m\u001b[31m\n",
      "\u001b[0m"
     ]
    }
   ],
   "source": [
    "!pip uninstall sentence_transformers"
   ]
  },
  {
   "cell_type": "code",
   "execution_count": 32,
   "metadata": {},
   "outputs": [
    {
     "data": {
      "text/plain": [
       "True"
      ]
     },
     "execution_count": 32,
     "metadata": {},
     "output_type": "execute_result"
    }
   ],
   "source": [
    "from openai import OpenAI\n",
    "import asyncio\n",
    "import pandas as pd\n",
    "from pydantic import BaseModel\n",
    "from dotenv import load_dotenv\n",
    "\n",
    "load_dotenv()"
   ]
  },
  {
   "cell_type": "code",
   "execution_count": 39,
   "metadata": {},
   "outputs": [
    {
     "name": "stdout",
     "output_type": "stream",
     "text": [
      "Collecting langchain_openai\n",
      "  Downloading langchain_openai-0.2.4-py3-none-any.whl.metadata (2.6 kB)\n",
      "Requirement already satisfied: langchain-core<0.4.0,>=0.3.13 in /Users/ktg/Desktop/project/portfolio-streamlit/.venv/lib/python3.11/site-packages (from langchain_openai) (0.3.13)\n",
      "Collecting openai<2.0.0,>=1.52.0 (from langchain_openai)\n",
      "  Downloading openai-1.52.2-py3-none-any.whl.metadata (24 kB)\n",
      "Collecting tiktoken<1,>=0.7 (from langchain_openai)\n",
      "  Downloading tiktoken-0.8.0-cp311-cp311-macosx_11_0_arm64.whl.metadata (6.6 kB)\n",
      "Requirement already satisfied: PyYAML>=5.3 in /Users/ktg/Desktop/project/portfolio-streamlit/.venv/lib/python3.11/site-packages (from langchain-core<0.4.0,>=0.3.13->langchain_openai) (6.0.2)\n",
      "Requirement already satisfied: jsonpatch<2.0,>=1.33 in /Users/ktg/Desktop/project/portfolio-streamlit/.venv/lib/python3.11/site-packages (from langchain-core<0.4.0,>=0.3.13->langchain_openai) (1.33)\n",
      "Requirement already satisfied: langsmith<0.2.0,>=0.1.125 in /Users/ktg/Desktop/project/portfolio-streamlit/.venv/lib/python3.11/site-packages (from langchain-core<0.4.0,>=0.3.13->langchain_openai) (0.1.134)\n",
      "Requirement already satisfied: packaging<25,>=23.2 in /Users/ktg/Desktop/project/portfolio-streamlit/.venv/lib/python3.11/site-packages (from langchain-core<0.4.0,>=0.3.13->langchain_openai) (24.1)\n",
      "Requirement already satisfied: pydantic<3.0.0,>=2.5.2 in /Users/ktg/Desktop/project/portfolio-streamlit/.venv/lib/python3.11/site-packages (from langchain-core<0.4.0,>=0.3.13->langchain_openai) (2.9.2)\n",
      "Requirement already satisfied: tenacity!=8.4.0,<10.0.0,>=8.1.0 in /Users/ktg/Desktop/project/portfolio-streamlit/.venv/lib/python3.11/site-packages (from langchain-core<0.4.0,>=0.3.13->langchain_openai) (8.5.0)\n",
      "Requirement already satisfied: typing-extensions>=4.7 in /Users/ktg/Desktop/project/portfolio-streamlit/.venv/lib/python3.11/site-packages (from langchain-core<0.4.0,>=0.3.13->langchain_openai) (4.12.2)\n",
      "Requirement already satisfied: anyio<5,>=3.5.0 in /Users/ktg/Desktop/project/portfolio-streamlit/.venv/lib/python3.11/site-packages (from openai<2.0.0,>=1.52.0->langchain_openai) (4.6.0)\n",
      "Requirement already satisfied: distro<2,>=1.7.0 in /Users/ktg/Desktop/project/portfolio-streamlit/.venv/lib/python3.11/site-packages (from openai<2.0.0,>=1.52.0->langchain_openai) (1.9.0)\n",
      "Requirement already satisfied: httpx<1,>=0.23.0 in /Users/ktg/Desktop/project/portfolio-streamlit/.venv/lib/python3.11/site-packages (from openai<2.0.0,>=1.52.0->langchain_openai) (0.27.2)\n",
      "Requirement already satisfied: jiter<1,>=0.4.0 in /Users/ktg/Desktop/project/portfolio-streamlit/.venv/lib/python3.11/site-packages (from openai<2.0.0,>=1.52.0->langchain_openai) (0.5.0)\n",
      "Requirement already satisfied: sniffio in /Users/ktg/Desktop/project/portfolio-streamlit/.venv/lib/python3.11/site-packages (from openai<2.0.0,>=1.52.0->langchain_openai) (1.3.1)\n",
      "Requirement already satisfied: tqdm>4 in /Users/ktg/Desktop/project/portfolio-streamlit/.venv/lib/python3.11/site-packages (from openai<2.0.0,>=1.52.0->langchain_openai) (4.66.5)\n",
      "Requirement already satisfied: regex>=2022.1.18 in /Users/ktg/Desktop/project/portfolio-streamlit/.venv/lib/python3.11/site-packages (from tiktoken<1,>=0.7->langchain_openai) (2024.9.11)\n",
      "Requirement already satisfied: requests>=2.26.0 in /Users/ktg/Desktop/project/portfolio-streamlit/.venv/lib/python3.11/site-packages (from tiktoken<1,>=0.7->langchain_openai) (2.32.3)\n",
      "Requirement already satisfied: idna>=2.8 in /Users/ktg/Desktop/project/portfolio-streamlit/.venv/lib/python3.11/site-packages (from anyio<5,>=3.5.0->openai<2.0.0,>=1.52.0->langchain_openai) (3.10)\n",
      "Requirement already satisfied: certifi in /Users/ktg/Desktop/project/portfolio-streamlit/.venv/lib/python3.11/site-packages (from httpx<1,>=0.23.0->openai<2.0.0,>=1.52.0->langchain_openai) (2024.8.30)\n",
      "Requirement already satisfied: httpcore==1.* in /Users/ktg/Desktop/project/portfolio-streamlit/.venv/lib/python3.11/site-packages (from httpx<1,>=0.23.0->openai<2.0.0,>=1.52.0->langchain_openai) (1.0.5)\n",
      "Requirement already satisfied: h11<0.15,>=0.13 in /Users/ktg/Desktop/project/portfolio-streamlit/.venv/lib/python3.11/site-packages (from httpcore==1.*->httpx<1,>=0.23.0->openai<2.0.0,>=1.52.0->langchain_openai) (0.14.0)\n",
      "Requirement already satisfied: jsonpointer>=1.9 in /Users/ktg/Desktop/project/portfolio-streamlit/.venv/lib/python3.11/site-packages (from jsonpatch<2.0,>=1.33->langchain-core<0.4.0,>=0.3.13->langchain_openai) (3.0.0)\n",
      "Requirement already satisfied: orjson<4.0.0,>=3.9.14 in /Users/ktg/Desktop/project/portfolio-streamlit/.venv/lib/python3.11/site-packages (from langsmith<0.2.0,>=0.1.125->langchain-core<0.4.0,>=0.3.13->langchain_openai) (3.10.7)\n",
      "Requirement already satisfied: requests-toolbelt<2.0.0,>=1.0.0 in /Users/ktg/Desktop/project/portfolio-streamlit/.venv/lib/python3.11/site-packages (from langsmith<0.2.0,>=0.1.125->langchain-core<0.4.0,>=0.3.13->langchain_openai) (1.0.0)\n",
      "Requirement already satisfied: annotated-types>=0.6.0 in /Users/ktg/Desktop/project/portfolio-streamlit/.venv/lib/python3.11/site-packages (from pydantic<3.0.0,>=2.5.2->langchain-core<0.4.0,>=0.3.13->langchain_openai) (0.7.0)\n",
      "Requirement already satisfied: pydantic-core==2.23.4 in /Users/ktg/Desktop/project/portfolio-streamlit/.venv/lib/python3.11/site-packages (from pydantic<3.0.0,>=2.5.2->langchain-core<0.4.0,>=0.3.13->langchain_openai) (2.23.4)\n",
      "Requirement already satisfied: charset-normalizer<4,>=2 in /Users/ktg/Desktop/project/portfolio-streamlit/.venv/lib/python3.11/site-packages (from requests>=2.26.0->tiktoken<1,>=0.7->langchain_openai) (3.3.2)\n",
      "Requirement already satisfied: urllib3<3,>=1.21.1 in /Users/ktg/Desktop/project/portfolio-streamlit/.venv/lib/python3.11/site-packages (from requests>=2.26.0->tiktoken<1,>=0.7->langchain_openai) (2.2.3)\n",
      "Downloading langchain_openai-0.2.4-py3-none-any.whl (50 kB)\n",
      "Downloading openai-1.52.2-py3-none-any.whl (386 kB)\n",
      "Downloading tiktoken-0.8.0-cp311-cp311-macosx_11_0_arm64.whl (982 kB)\n",
      "\u001b[2K   \u001b[90m━━━━━━━━━━━━━━━━━━━━━━━━━━━━━━━━━━━━━━━━\u001b[0m \u001b[32m982.4/982.4 kB\u001b[0m \u001b[31m22.5 MB/s\u001b[0m eta \u001b[36m0:00:00\u001b[0m\n",
      "\u001b[?25hInstalling collected packages: tiktoken, openai, langchain_openai\n",
      "  Attempting uninstall: openai\n",
      "    Found existing installation: openai 1.47.1\n",
      "    Uninstalling openai-1.47.1:\n",
      "      Successfully uninstalled openai-1.47.1\n",
      "Successfully installed langchain_openai-0.2.4 openai-1.52.2 tiktoken-0.8.0\n",
      "\n",
      "\u001b[1m[\u001b[0m\u001b[34;49mnotice\u001b[0m\u001b[1;39;49m]\u001b[0m\u001b[39;49m A new release of pip is available: \u001b[0m\u001b[31;49m24.2\u001b[0m\u001b[39;49m -> \u001b[0m\u001b[32;49m24.3.1\u001b[0m\n",
      "\u001b[1m[\u001b[0m\u001b[34;49mnotice\u001b[0m\u001b[1;39;49m]\u001b[0m\u001b[39;49m To update, run: \u001b[0m\u001b[32;49mpip install --upgrade pip\u001b[0m\n"
     ]
    }
   ],
   "source": [
    "!pip install langchain_openai"
   ]
  },
  {
   "cell_type": "code",
   "execution_count": 76,
   "metadata": {},
   "outputs": [],
   "source": [
    "# nest_asyncio 설정 (Jupyter 환경에서 필요)\n",
    "import nest_asyncio\n",
    "nest_asyncio.apply()"
   ]
  },
  {
   "cell_type": "code",
   "execution_count": 81,
   "metadata": {},
   "outputs": [],
   "source": [
    "from langchain_openai import ChatOpenAI\n",
    "from langchain.prompts import PromptTemplate\n",
    "from langchain.output_parsers import StructuredOutputParser, ResponseSchema\n",
    "import asyncio\n",
    "from langchain_core.output_parsers import StrOutputParser\n",
    "from dotenv import load_dotenv\n",
    "\n",
    "import pandas as pd\n",
    "\n",
    "# 출력 스키마 정의\n",
    "response_schemas = [\n",
    "    ResponseSchema(name=\"modified_text\", description=\"Improved Korean phrasing\"),\n",
    "    ResponseSchema(name=\"score\", description=\"Rating score for improved wording (0-9)\")\n",
    "]\n",
    "\n",
    "# 출력 파서 설정\n",
    "StrOutputParser = StructuredOutputParser.from_response_schemas(response_schemas)\n",
    "\n",
    "# ChatGPT 모델 초기화\n",
    "llm = ChatOpenAI(\n",
    "    temperature=0.7,\n",
    "    model=\"gpt-4o-2024-08-06\"\n",
    ")\n"
   ]
  },
  {
   "cell_type": "code",
   "execution_count": 107,
   "metadata": {},
   "outputs": [],
   "source": [
    "result_example = f\"\"\"input: 현재 비밀번호를 입력해주세요.\n",
    "output: 현재 사용 중인 비밀번호를 입력해 주세요.\n",
    "\n",
    "input: 이메일형식이 올바르지 않습니다.\n",
    "output: 이메일 형식이 올바르지 않습니다. 다시 확인해 주세요.\n",
    "\n",
    "input: 한글이름을 입력해주세요.\n",
    "output: 이름을 한글로 입력해 주세요.\n",
    "\n",
    "input: 웹용 썸네일 이미지는 3MB를 넘을 수 없습니다.\n",
    "output: 웹용 썸네일 이미지는 3MB 이하로 등록해 주세요.\n",
    "\n",
    "input: 서비스 준비중입니다.\n",
    "output: 현재 서비스 준비 중입니다. 잠시만 기다려 주세요.\"\"\"\n",
    "\n",
    "template = f\"\"\"You are tasked with improving a given Korean phrase to make it more user-friendly and natural. Your goal is to follow the instructions carefully and provide an improved version of the phrase along with a self-evaluation score.\n",
    "\n",
    "To improve the phrase:\n",
    "1. 존댓말 사용\n",
    "2. 명확한 안내\n",
    "3. 부드러운 어조\n",
    "4. 필요한 경우 추가 설명\n",
    "\n",
    "After improving the phrase, evaluate your own work by assigning a score from 0 to 9, where 0 is the lowest and 9 is the highest. Consider how well you've addressed each of the given criteria in your improvement.\n",
    "\n",
    "Example:\n",
    "{result_example}\"\"\""
   ]
  },
  {
   "cell_type": "code",
   "execution_count": 108,
   "metadata": {},
   "outputs": [
    {
     "data": {
      "text/plain": [
       "\"You are tasked with improving a given Korean phrase to make it more user-friendly and natural. Your goal is to follow the instructions carefully and provide an improved version of the phrase along with a self-evaluation score.\\n\\nTo improve the phrase:\\n1. 존댓말 사용\\n2. 명확한 안내\\n3. 부드러운 어조\\n4. 필요한 경우 추가 설명\\n\\nAfter improving the phrase, evaluate your own work by assigning a score from 0 to 9, where 0 is the lowest and 9 is the highest. Consider how well you've addressed each of the given criteria in your improvement.\\n\\nExample:\\ninput: 현재 비밀번호를 입력해주세요.\\noutput: 현재 사용 중인 비밀번호를 입력해 주세요.\\n\\ninput: 이메일형식이 올바르지 않습니다.\\noutput: 이메일 형식이 올바르지 않습니다. 다시 확인해 주세요.\\n\\ninput: 한글이름을 입력해주세요.\\noutput: 이름을 한글로 입력해 주세요.\\n\\ninput: 웹용 썸네일 이미지는 3MB를 넘을 수 없습니다.\\noutput: 웹용 썸네일 이미지는 3MB 이하로 등록해 주세요.\\n\\ninput: 서비스 준비중입니다.\\noutput: 현재 서비스 준비 중입니다. 잠시만 기다려 주세요.\""
      ]
     },
     "execution_count": 108,
     "metadata": {},
     "output_type": "execute_result"
    }
   ],
   "source": [
    "template"
   ]
  },
  {
   "cell_type": "code",
   "execution_count": 85,
   "metadata": {},
   "outputs": [
    {
     "ename": "TypeError",
     "evalue": "'StructuredOutputParser' object is not callable",
     "output_type": "error",
     "traceback": [
      "\u001b[0;31m---------------------------------------------------------------------------\u001b[0m",
      "\u001b[0;31mTypeError\u001b[0m                                 Traceback (most recent call last)",
      "Cell \u001b[0;32mIn[85], line 2\u001b[0m\n\u001b[1;32m      1\u001b[0m prompt \u001b[38;5;241m=\u001b[39m PromptTemplate\u001b[38;5;241m.\u001b[39mfrom_template(template\u001b[38;5;241m=\u001b[39mtemplate)\n\u001b[0;32m----> 2\u001b[0m chain \u001b[38;5;241m=\u001b[39m prompt \u001b[38;5;241m|\u001b[39m llm \u001b[38;5;241m|\u001b[39m \u001b[43mStrOutputParser\u001b[49m\u001b[43m(\u001b[49m\u001b[43m)\u001b[49m\n",
      "\u001b[0;31mTypeError\u001b[0m: 'StructuredOutputParser' object is not callable"
     ]
    }
   ],
   "source": [
    "prompt = PromptTemplate.from_template(template=template)\n",
    "chain = prompt | llm | StrOutputParser()"
   ]
  },
  {
   "cell_type": "code",
   "execution_count": 99,
   "metadata": {},
   "outputs": [],
   "source": [
    "from langchain.prompts import PromptTemplate\n",
    "from langchain_core.output_parsers import StrOutputParser\n",
    "from langchain_openai import ChatOpenAI\n",
    "from dotenv import load_dotenv\n",
    "\n",
    "load_dotenv()\n",
    "\n",
    "llm = ChatOpenAI(\n",
    "    temperature=0, \n",
    "    model_name=\"gpt-4o-mini\"\n",
    ")\n",
    "\n",
    "template = \"아래 질문에 대한 답변을 해주세요. \\n{query}\"\n",
    "prompt = PromptTemplate.from_template(template=template)\n",
    "chain = prompt | llm | StrOutputParser()"
   ]
  },
  {
   "cell_type": "code",
   "execution_count": 109,
   "metadata": {},
   "outputs": [],
   "source": [
    "from pydantic import BaseModel\n",
    "from openai import OpenAI\n",
    "\n",
    "client = OpenAI()\n",
    "\n",
    "class ResponseModel(BaseModel):\n",
    "    modified_text: str\n",
    "    score: int\n",
    "\n",
    "def improve_phrase(phrase):\n",
    "    completion = client.beta.chat.completions.parse(\n",
    "        model=\"gpt-4o-2024-08-06\",\n",
    "        messages=[\n",
    "            {\"role\": \"system\", \"content\": template},\n",
    "            {\"role\": \"user\", \"content\": phrase}\n",
    "        ],\n",
    "        response_format=ResponseModel,\n",
    "    )   \n",
    "\n",
    "    return completion.choices[0].message.parsed"
   ]
  },
  {
   "cell_type": "code",
   "execution_count": 110,
   "metadata": {},
   "outputs": [
    {
     "data": {
      "text/plain": [
       "'현재 비밀번호를 입력해주세요'"
      ]
     },
     "execution_count": 110,
     "metadata": {},
     "output_type": "execute_result"
    }
   ],
   "source": [
    "unique_messages[0]"
   ]
  },
  {
   "cell_type": "code",
   "execution_count": 112,
   "metadata": {},
   "outputs": [
    {
     "data": {
      "text/plain": [
       "ResponseModel(modified_text='현재 사용 중인 비밀번호를 입력해 주세요.', score=8)"
      ]
     },
     "execution_count": 112,
     "metadata": {},
     "output_type": "execute_result"
    }
   ],
   "source": [
    "\n",
    "res = improve_phrase(unique_messages[0])\n",
    "res\n"
   ]
  },
  {
   "cell_type": "code",
   "execution_count": 113,
   "metadata": {},
   "outputs": [],
   "source": [
    "# origin_df[:100]에 modified_text, score 추가\n",
    "# improve_phrase를 한번만 호출하여 결과 저장\n",
    "improved_results = origin_df[:100]['Message_preprocessed'].apply(improve_phrase)"
   ]
  },
  {
   "cell_type": "code",
   "execution_count": 114,
   "metadata": {},
   "outputs": [
    {
     "name": "stderr",
     "output_type": "stream",
     "text": [
      "/var/folders/0n/0g9n7qgs1039jj2120nlt1yr0000gn/T/ipykernel_34656/881120333.py:1: FutureWarning: ChainedAssignmentError: behaviour will change in pandas 3.0!\n",
      "You are setting values through chained assignment. Currently this works in certain cases, but when using Copy-on-Write (which will become the default behaviour in pandas 3.0) this will never work to update the original DataFrame or Series, because the intermediate object on which we are setting values will behave as a copy.\n",
      "A typical example is when you are setting values in a column of a DataFrame, like:\n",
      "\n",
      "df[\"col\"][row_indexer] = value\n",
      "\n",
      "Use `df.loc[row_indexer, \"col\"] = values` instead, to perform the assignment in a single step and ensure this keeps updating the original `df`.\n",
      "\n",
      "See the caveats in the documentation: https://pandas.pydata.org/pandas-docs/stable/user_guide/indexing.html#returning-a-view-versus-a-copy\n",
      "\n",
      "  origin_df[:100]['modified_text'] = improved_results.apply(lambda x: x.modified_text)\n",
      "/var/folders/0n/0g9n7qgs1039jj2120nlt1yr0000gn/T/ipykernel_34656/881120333.py:1: SettingWithCopyWarning: \n",
      "A value is trying to be set on a copy of a slice from a DataFrame.\n",
      "Try using .loc[row_indexer,col_indexer] = value instead\n",
      "\n",
      "See the caveats in the documentation: https://pandas.pydata.org/pandas-docs/stable/user_guide/indexing.html#returning-a-view-versus-a-copy\n",
      "  origin_df[:100]['modified_text'] = improved_results.apply(lambda x: x.modified_text)\n",
      "/var/folders/0n/0g9n7qgs1039jj2120nlt1yr0000gn/T/ipykernel_34656/881120333.py:2: FutureWarning: ChainedAssignmentError: behaviour will change in pandas 3.0!\n",
      "You are setting values through chained assignment. Currently this works in certain cases, but when using Copy-on-Write (which will become the default behaviour in pandas 3.0) this will never work to update the original DataFrame or Series, because the intermediate object on which we are setting values will behave as a copy.\n",
      "A typical example is when you are setting values in a column of a DataFrame, like:\n",
      "\n",
      "df[\"col\"][row_indexer] = value\n",
      "\n",
      "Use `df.loc[row_indexer, \"col\"] = values` instead, to perform the assignment in a single step and ensure this keeps updating the original `df`.\n",
      "\n",
      "See the caveats in the documentation: https://pandas.pydata.org/pandas-docs/stable/user_guide/indexing.html#returning-a-view-versus-a-copy\n",
      "\n",
      "  origin_df[:100]['score'] = improved_results.apply(lambda x: x.score)\n",
      "/var/folders/0n/0g9n7qgs1039jj2120nlt1yr0000gn/T/ipykernel_34656/881120333.py:2: SettingWithCopyWarning: \n",
      "A value is trying to be set on a copy of a slice from a DataFrame.\n",
      "Try using .loc[row_indexer,col_indexer] = value instead\n",
      "\n",
      "See the caveats in the documentation: https://pandas.pydata.org/pandas-docs/stable/user_guide/indexing.html#returning-a-view-versus-a-copy\n",
      "  origin_df[:100]['score'] = improved_results.apply(lambda x: x.score)\n"
     ]
    },
    {
     "data": {
      "text/html": [
       "<div>\n",
       "<style scoped>\n",
       "    .dataframe tbody tr th:only-of-type {\n",
       "        vertical-align: middle;\n",
       "    }\n",
       "\n",
       "    .dataframe tbody tr th {\n",
       "        vertical-align: top;\n",
       "    }\n",
       "\n",
       "    .dataframe thead th {\n",
       "        text-align: right;\n",
       "    }\n",
       "</style>\n",
       "<table border=\"1\" class=\"dataframe\">\n",
       "  <thead>\n",
       "    <tr style=\"text-align: right;\">\n",
       "      <th></th>\n",
       "      <th>File</th>\n",
       "      <th>Message</th>\n",
       "      <th>Message_preprocessed</th>\n",
       "    </tr>\n",
       "  </thead>\n",
       "  <tbody>\n",
       "    <tr>\n",
       "      <th>0</th>\n",
       "      <td>/var/www/weven_supply/app_supply/web/content/m...</td>\n",
       "      <td>현재 비밀번호를 입력해주세요</td>\n",
       "      <td>현재비밀번호를입력해주세요</td>\n",
       "    </tr>\n",
       "    <tr>\n",
       "      <th>1</th>\n",
       "      <td>/var/www/weven_supply/app_supply/web/content/m...</td>\n",
       "      <td>비밀번호를 다시한번 입력해주세요</td>\n",
       "      <td>비밀번호를다시한번입력해주세요</td>\n",
       "    </tr>\n",
       "    <tr>\n",
       "      <th>2</th>\n",
       "      <td>/var/www/weven_supply/app_supply/web/content/m...</td>\n",
       "      <td>비밀번호를 다시한번 확인해주세요</td>\n",
       "      <td>비밀번호를다시한번확인해주세요</td>\n",
       "    </tr>\n",
       "    <tr>\n",
       "      <th>3</th>\n",
       "      <td>/var/www/weven_supply/app_supply/web/content/m...</td>\n",
       "      <td>이메일 형식이 올바르지 않습니다.</td>\n",
       "      <td>이메일형식이올바르지않습니다.</td>\n",
       "    </tr>\n",
       "    <tr>\n",
       "      <th>4</th>\n",
       "      <td>/var/www/weven_supply/app_supply/web/content/m...</td>\n",
       "      <td>Email 형식이 아닙니다.</td>\n",
       "      <td>Email형식이아닙니다.</td>\n",
       "    </tr>\n",
       "  </tbody>\n",
       "</table>\n",
       "</div>"
      ],
      "text/plain": [
       "                                                File             Message  \\\n",
       "0  /var/www/weven_supply/app_supply/web/content/m...     현재 비밀번호를 입력해주세요   \n",
       "1  /var/www/weven_supply/app_supply/web/content/m...   비밀번호를 다시한번 입력해주세요   \n",
       "2  /var/www/weven_supply/app_supply/web/content/m...   비밀번호를 다시한번 확인해주세요   \n",
       "3  /var/www/weven_supply/app_supply/web/content/m...  이메일 형식이 올바르지 않습니다.   \n",
       "4  /var/www/weven_supply/app_supply/web/content/m...     Email 형식이 아닙니다.   \n",
       "\n",
       "  Message_preprocessed  \n",
       "0        현재비밀번호를입력해주세요  \n",
       "1      비밀번호를다시한번입력해주세요  \n",
       "2      비밀번호를다시한번확인해주세요  \n",
       "3      이메일형식이올바르지않습니다.  \n",
       "4        Email형식이아닙니다.  "
      ]
     },
     "execution_count": 114,
     "metadata": {},
     "output_type": "execute_result"
    }
   ],
   "source": [
    "origin_df[:100]['modified_text'] = improved_results.apply(lambda x: x.modified_text)\n",
    "origin_df[:100]['score'] = improved_results.apply(lambda x: x.score)\n",
    "origin_df[:100].head()"
   ]
  },
  {
   "cell_type": "code",
   "execution_count": 115,
   "metadata": {},
   "outputs": [
    {
     "data": {
      "text/plain": [
       "0       modified_text='현재 사용 중인 비밀번호를 입력해 주세요.' score=9\n",
       "1          modified_text='비밀번호를 다시 한번 입력해 주세요.' score=8\n",
       "2         modified_text='비밀번호를 다시 한 번 확인해 주세요.' score=8\n",
       "3     modified_text='이메일 형식이 올바르지 않습니다. 다시 한번 확인해 주시...\n",
       "4     modified_text='입력하신 이메일의 형식이 올바르지 않습니다. 올바른 이메...\n",
       "                            ...                        \n",
       "95    modified_text='체험형 사이트 생성이 완료되었습니다. 이용해 주셔서 감사...\n",
       "96            modified_text='사이트 아이디를 입력해 주세요.' score=7\n",
       "97    modified_text='로그인이 완료되었습니다. 서비스를 이용해 주세요.' sc...\n",
       "98                modified_text='아이디를 입력해 주세요.' score=8\n",
       "99               modified_text='비밀번호를 입력해 주세요.' score=7\n",
       "Name: Message_preprocessed, Length: 100, dtype: object"
      ]
     },
     "execution_count": 115,
     "metadata": {},
     "output_type": "execute_result"
    }
   ],
   "source": [
    "improved_results"
   ]
  },
  {
   "cell_type": "code",
   "execution_count": 120,
   "metadata": {},
   "outputs": [],
   "source": [
    "df = pd.read_csv(\"/Users/ktg/Desktop/project/portfolio-streamlit/test/result_batch_1.csv\")\n",
    "df.to_excel(\n",
    "    \"/Users/ktg/Desktop/project/portfolio-streamlit/test/result_batch_1.xlsx\",\n",
    "    index=False\n",
    ")\n"
   ]
  },
  {
   "cell_type": "code",
   "execution_count": 121,
   "metadata": {},
   "outputs": [],
   "source": [
    "df = pd.read_csv(\"/Users/ktg/Desktop/project/portfolio-streamlit/test/result_batch_2.csv\")\n",
    "df.to_excel(\n",
    "    \"/Users/ktg/Desktop/project/portfolio-streamlit/test/result_batch_2.xlsx\",\n",
    "    index=False\n",
    ")\n"
   ]
  },
  {
   "cell_type": "code",
   "execution_count": null,
   "metadata": {},
   "outputs": [],
   "source": []
  }
 ],
 "metadata": {
  "kernelspec": {
   "display_name": ".venv",
   "language": "python",
   "name": "python3"
  },
  "language_info": {
   "codemirror_mode": {
    "name": "ipython",
    "version": 3
   },
   "file_extension": ".py",
   "mimetype": "text/x-python",
   "name": "python",
   "nbconvert_exporter": "python",
   "pygments_lexer": "ipython3",
   "version": "3.11.8"
  }
 },
 "nbformat": 4,
 "nbformat_minor": 2
}
